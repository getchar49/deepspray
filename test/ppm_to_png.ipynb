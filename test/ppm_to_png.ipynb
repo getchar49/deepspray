{
 "cells": [
  {
   "cell_type": "code",
   "execution_count": 4,
   "metadata": {},
   "outputs": [],
   "source": [
    "from PIL import Image\n",
    "\n",
    "name = \"run3_0290\"\n",
    "im = Image.open(name + \".ppm\")\n",
    "im.save(name + \".png\")"
   ]
  },
  {
   "cell_type": "code",
   "execution_count": 5,
   "metadata": {},
   "outputs": [
    {
     "name": "stdout",
     "output_type": "stream",
     "text": [
      "(935, 1024, 3)\n",
      "(600, 1200, 3)\n",
      "(1200, 1600, 3)\n",
      "(600, 1200, 3)\n",
      "(600, 1200, 3)\n",
      "(935, 1024, 3)\n",
      "(1200, 1600, 3)\n",
      "(1200, 1600, 3)\n",
      "(1200, 1600, 3)\n",
      "(935, 1024, 3)\n",
      "(935, 1024, 3)\n",
      "(1200, 1600, 3)\n",
      "(600, 1200, 3)\n",
      "(600, 1200, 3)\n"
     ]
    }
   ],
   "source": [
    "import cv2, os\n",
    "\n",
    "for img_name in os.listdir(\"./images\"):\n",
    "    img = cv2.imread(\"./images/\"+img_name)\n",
    "    print(img.shape)"
   ]
  },
  {
   "cell_type": "code",
   "execution_count": null,
   "metadata": {},
   "outputs": [],
   "source": []
  }
 ],
 "metadata": {
  "kernelspec": {
   "display_name": "Python 3",
   "language": "python",
   "name": "python3"
  },
  "language_info": {
   "codemirror_mode": {
    "name": "ipython",
    "version": 3
   },
   "file_extension": ".py",
   "mimetype": "text/x-python",
   "name": "python",
   "nbconvert_exporter": "python",
   "pygments_lexer": "ipython3",
   "version": "3.7.6"
  }
 },
 "nbformat": 4,
 "nbformat_minor": 4
}
